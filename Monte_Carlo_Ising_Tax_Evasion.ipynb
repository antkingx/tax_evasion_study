{
 "cells": [
  {
   "cell_type": "markdown",
   "metadata": {
    "pycharm": {
     "name": "#%% md\n"
    }
   },
   "source": [
    "# Simulation Monte Carlo de la méthode d'Ising appliquer à la compliance des agents vis-à-vis des taxes"
   ]
  },
  {
   "cell_type": "markdown",
   "metadata": {
    "pycharm": {
     "name": "#%% md\n"
    }
   },
   "source": [
    "## Introduction"
   ]
  },
  {
   "cell_type": "markdown",
   "source": [
    "Dans ce programme, j'utilise la méthode de Monte Carlo pour simuler les propriétés ferromagnétiques d'un réseau bidimensionnel de spins en utilisant Python. Les spins de ce réseau correspondent à des agents qui tax-compliant ou non. En utilisant la méthode de Monte Carlo, où un réseau initial de spins orientés de manière aléatoire est retourné jusqu'à ce que le système atteigne un équilibre. La modélisation actuelle permet de faire les simulations à plusieurs températures.\n"
   ],
   "metadata": {
    "collapsed": false,
    "pycharm": {
     "name": "#%% md\n"
    }
   }
  },
  {
   "cell_type": "markdown",
   "metadata": {
    "pycharm": {
     "name": "#%% md\n"
    }
   },
   "source": [
    "## Background"
   ]
  },
  {
   "cell_type": "markdown",
   "metadata": {
    "pycharm": {
     "name": "#%% md\n"
    }
   },
   "source": [
    "Dans son sens le plus élémentaire, il modélise l'interaction entre les spins dans un matériau ferromagnétique.  Pour un système comportant $N$ sites qui contiennent un moment magnétique de spin, chaque site $S_ij$ peut avoir l'une des deux orientations possibles, $S_{ij} = 1$ (spin up/ agent compliant) ou $S_{ij} = -1$ (spin down/agent fraudeur).  Dans une configuration de réseau bidimensionnel, chaque site de spin a quatre voisins les plus proches (au-dessus, au-dessous, à gauche et à droite) et le modèle d'Ising simplifie l'analyse du ferromagnétique en ne prenant en compte que les interactions des spins directement voisins et en prenant un $\\alpha$ = 0."
   ]
  },
  {
   "cell_type": "markdown",
   "source": [],
   "metadata": {
    "collapsed": false,
    "pycharm": {
     "name": "#%% md\n"
    }
   }
  },
  {
   "cell_type": "markdown",
   "metadata": {
    "pycharm": {
     "name": "#%% md\n"
    }
   },
   "source": [
    "## La méthode de Monte Carlo"
   ]
  },
  {
   "cell_type": "markdown",
   "source": [
    "La méthode de Monte Carlo pour analyser le modèle d'Ising est assez simple. Le système initial du réseau est dans un état de configurations de spin aléatoires. Nous choisissons ensuite un site sur le réseau de façon aléatoire et calculons le changement d'énergie de la nouvelle configuration. Puisque nous ne sommes concernés que par les interactions entre voisins les plus proches, nous n'avons pas besoin de recalculer l'énergie de l'ensemble du système. Nous calculons simplement le changement d'énergie puisque nous savons quelles valeurs possibles il doit prendre pour un retournement de spin donné.\n"
   ],
   "metadata": {
    "collapsed": false,
    "pycharm": {
     "name": "#%% md\n"
    }
   }
  },
  {
   "cell_type": "markdown",
   "source": [],
   "metadata": {
    "collapsed": false,
    "pycharm": {
     "name": "#%% md\n"
    }
   }
  },
  {
   "cell_type": "markdown",
   "source": [
    "Si le changement d'énergie est inférieur à zéro, nous acceptons la nouvelle configuration de spin. Cela est logique puisque le système aura tendance à s'équilibrer vers l'état d'énergie le plus bas. Si le changement d'énergie est supérieur à zéro, nous l'acceptons avec une probabilité. Puisqu'il y a toujours une chance que le système passe à l'état d'énergie supérieur (même si c'est improbable), nous devons en tenir compte. La probabilité que nous utilisons est écrite ci-dessous :"
   ],
   "metadata": {
    "collapsed": false,
    "pycharm": {
     "name": "#%% md\n"
    }
   }
  },
  {
   "cell_type": "markdown",
   "metadata": {
    "pycharm": {
     "name": "#%% md\n"
    }
   },
   "source": [
    "$p=\\frac{1}{1+e^{\\frac{-{\\Delta{E}}}{{k_B}{T}}}}$"
   ]
  },
  {
   "cell_type": "markdown",
   "metadata": {
    "pycharm": {
     "name": "#%% md\n"
    }
   },
   "source": [
    "Où ${\\Delta{E}}$ est le changement d'énergie du système après le retournement du spin, $T$ est la température du système et $k_B$ est la constante de Boltzmann. Dans cette simulation, la constante de Boltzmann est fixée à 1. Afin d'utiliser cette fonction, nous générons un nombre aléatoire $x$ entre 0 et 1. Si nous retournons un spin et qu'il finit par avoir un changement positif d'énergie, nous acceptons cette nouvelle configuration uniquement si $p>x$.  Si $p$ est inférieur à $x$, nous rejetons le retournement et conservons l'ancienne configuration."
   ]
  },
  {
   "cell_type": "markdown",
   "source": [],
   "metadata": {
    "collapsed": false,
    "pycharm": {
     "name": "#%% md\n"
    }
   }
  },
  {
   "cell_type": "markdown",
   "metadata": {
    "pycharm": {
     "name": "#%% md\n"
    }
   },
   "source": [
    "## Implementation dans Python"
   ]
  },
  {
   "cell_type": "code",
   "execution_count": 11,
   "metadata": {
    "pycharm": {
     "name": "#%%\n"
    }
   },
   "outputs": [],
   "source": [
    "from numpy import *\n",
    "from random import *\n",
    "from tkinter import *"
   ]
  },
  {
   "cell_type": "markdown",
   "metadata": {
    "pycharm": {
     "name": "#%% md\n"
    }
   },
   "source": [
    "The user is allowed to input the number of sites on each row of the two dimensional lattice, the width of each cell in the interface simulation and the number of Monte Carlo steps that are taken in the simulation.  Because the screen on the computer is only so large, I find that keeping the number of sites between 50 and 75 is ideal.  Similarly the width of each cell should be reasonably set.  The width is given in pixels and a width between 10 and 15 is good. Lastly the number of steps in the simulation has one main visual effect on the interface.  If the number of Monte Carlo steps are small then the spins will flip quickly on the interface simulation.  If the number of steps is large then the spins will flip more slowly on the interface."
   ]
  },
  {
   "cell_type": "markdown",
   "source": [
    "L'utilisateur peut saisir le nombre de sites sur chaque rangée du réseau bidimensionnel, la largeur de chaque cellule dans la simulation de l'interface et le nombre de pas de Monte Carlo effectués dans la simulation. Il faut adapter les deux premières variables en fonction de la taille de son écran. Si le nombre d'étapes de Monte Carlo est faible, les spins se retourneront rapidement sur la simulation de l'interface. Si le nombre d'étapes est élevé, les spins se retourneront plus lentement sur l'interface.\n",
    "Valeurs recommandés :\n",
    "n = 50\n",
    "w = 10\n",
    "steps = 10"
   ],
   "metadata": {
    "collapsed": false,
    "pycharm": {
     "name": "#%% md\n"
    }
   }
  },
  {
   "cell_type": "code",
   "execution_count": 12,
   "metadata": {
    "slideshow": {
     "slide_type": "slide"
    },
    "pycharm": {
     "name": "#%%\n"
    }
   },
   "outputs": [],
   "source": [
    "#On définit les commandes\n",
    "kb=1 #.38*10**-23 #boltzmann\n",
    "\n",
    "#user inputs\n",
    "n = int(input('Input the number of sites in each row: '))\n",
    "w = int(input('Input the cell width of each site in pixels:'))\n",
    "steps = int(input('Input the number of Monte Carlo steps:'))"
   ]
  },
  {
   "cell_type": "markdown",
   "source": [
    "L'implémentation de la fonction d'énergie en python nécessite la prise en compte des bords de la grille.  Puisque la simulation prend en compte le changement d'énergie en fonction des spins voisins, nous devons envisager les cas où le site choisi sur le réseau n'a que deux voisins les plus proches au lieu de quatre."
   ],
   "metadata": {
    "collapsed": false,
    "pycharm": {
     "name": "#%% md\n"
    }
   }
  },
  {
   "cell_type": "code",
   "execution_count": 13,
   "metadata": {
    "slideshow": {
     "slide_type": "slide"
    },
    "pycharm": {
     "name": "#%%\n"
    }
   },
   "outputs": [],
   "source": [
    "#On définit le changement d'énergie\n",
    "def deltaE(i,j):\n",
    "    if i==0:\n",
    "        left=lattice[sites-1,j] \n",
    "    else:\n",
    "        left=lattice[i-1,j]\n",
    "    if i==sites-1:\n",
    "        right=lattice[0,j]\n",
    "    else:\n",
    "        right=lattice[i+1,j]\n",
    "    if j==0:\n",
    "        above=lattice[i,sites-1]\n",
    "    else:\n",
    "        above=lattice[i,j-1]\n",
    "    if j==sites-1:\n",
    "        below=lattice[i,0]\n",
    "    else:\n",
    "        below=lattice[i,j+1]\n",
    "    return 2.0 * lattice[i,j] * (left+right+above+below)"
   ]
  },
  {
   "cell_type": "markdown",
   "source": [
    "La fonction pixel ci-dessous regarde simplement un site et lui attribue une des deux couleurs.  Si le spin de ce site est égal à 1 (spin up), la couleur attribuée est le vert.  Si le spin est égal à -1 (spin down), la couleur est grise.  La dernière ligne de code dans le bloc ci-dessous colore les pixels correspondants sur l'interface."
   ],
   "metadata": {
    "collapsed": false,
    "pycharm": {
     "name": "#%% md\n"
    }
   }
  },
  {
   "cell_type": "code",
   "execution_count": 14,
   "metadata": {
    "pycharm": {
     "name": "#%%\n"
    }
   },
   "outputs": [],
   "source": [
    "#On définit la fonction qui assigne les couleurs aux pixels\n",
    "def pixel(i,j):\n",
    "    if lattice[i,j]==1:\n",
    "        pixel = \"#2a623d\" #vert = spin up / agent compliant\n",
    "    else:\n",
    "        pixel = \"#aaaaaa\" #gris = spin down / agent fraudeur\n",
    "        \n",
    "    image.put(pixel, to=(i*sitewidth,j*sitewidth,(i+1)*sitewidth,(j+1)*sitewidth))#On colorit les pixels correspondants\n"
   ]
  },
  {
   "cell_type": "markdown",
   "source": [
    "Ci-dessous se trouve la boucle principale de Monte Carlo. Le code ne passe par cette boucle que si l'interface exécute la simulation. La température peut être ajustée sur l'interface (voir le code plus bas) et cette boucle obtient d'abord cette température. Ensuite, la boucle choisit un site au hasard, elle calcule le changement d'énergie en appelant la fonction d'énergie et si ce changement est inférieur ou égal à zéro, elle retourne le spin. S'il est supérieur à zéro, il renverse le spin avec une probabilité. La boucle ajuste ensuite la couleur sur l'interface."
   ],
   "metadata": {
    "collapsed": false,
    "pycharm": {
     "name": "#%% md\n"
    }
   }
  },
  {
   "cell_type": "code",
   "execution_count": 15,
   "metadata": {
    "pycharm": {
     "name": "#%%\n"
    }
   },
   "outputs": [],
   "source": [
    "def montecarlo():\n",
    "    if running:\n",
    "        T = tempscale.get()#On récupère la température issue de la barre glissante dans l'interface\n",
    "        for step in range(steps):#On effectue la boucle sur le nombre de steps définies au début\n",
    "            i = int(random()*sites)#On choisit une ligne et une colonne au hasard\n",
    "            j = int(random()*sites)\n",
    "            x=round(uniform(0.,1.),10)#On choisit un nombre aléatoire entre 0 et 1\n",
    "            p=1/(1+exp(-deltaE(i,j)/(kb*T)))\n",
    "            if deltaE(i,j)<=0:#On flip le spin si le changement d'énergie est inférieur à 0\n",
    "                lattice[i,j] = -lattice[i,j]\n",
    "            elif p>x:#Si l'énergie est supérieure à 0, on flip le spin seulement si p > x\n",
    "                lattice[i,j] = -lattice[i,j]\n",
    "                pixel(i, j)#On appelle la fonction pixel pour effectuer la coloration\n",
    "    window.after(1,montecarlo)"
   ]
  },
  {
   "cell_type": "code",
   "execution_count": 16,
   "metadata": {
    "pycharm": {
     "name": "#%%\n"
    }
   },
   "outputs": [
    {
     "data": {
      "text/plain": "1"
     },
     "execution_count": 16,
     "metadata": {},
     "output_type": "execute_result"
    }
   ],
   "source": [
    "sites = n#nombre de spin sur chaque colonne\n",
    "#On crée une grille de spin en 2D\n",
    "lattice = zeros((sites, sites), int)\n",
    "sitewidth=w# On détermine la largeur de chaque spin\n",
    "canvaswidth=sites * sitewidth# On détermine la largeur de notre canva\n",
    "running=False\n",
    "\n",
    "window=Tk()\n",
    "window.title(\"Simulation of the Ising Model\")\n",
    "window.geometry('+50+50')\n",
    "\n",
    "#On crée le canva pour simulation les transitions des spins\n",
    "canvas = Canvas(window, width=canvaswidth, height=canvaswidth)\n",
    "canvas.pack()\n",
    "image = PhotoImage(width=canvaswidth, height=canvaswidth)\n",
    "canvas.create_image((3, 3), image=image, anchor=\"nw\", state=\"normal\")"
   ]
  },
  {
   "cell_type": "code",
   "execution_count": 17,
   "metadata": {
    "pycharm": {
     "name": "#%%\n"
    }
   },
   "outputs": [],
   "source": [
    "#On définit la fonction qui démarre et arrête la simulation\n",
    "#On crée un bouton qui appelle cette fonction\n",
    "def startandstop():\n",
    "    global running\n",
    "    running = not running\n",
    "    if running:\n",
    "        startbutton.config(text=\"stop\")\n",
    "    else:\n",
    "        startbutton.config(text=\"start\")"
   ]
  },
  {
   "cell_type": "markdown",
   "metadata": {
    "pycharm": {
     "name": "#%% md\n"
    }
   },
   "source": [
    "On a là les commands pour tkinter"
   ]
  },
  {
   "cell_type": "code",
   "execution_count": 18,
   "metadata": {
    "pycharm": {
     "name": "#%%\n"
    }
   },
   "outputs": [],
   "source": [
    "controlFrame = Frame(window)#On crée la frame\n",
    "controlFrame.pack()\n",
    "tempscale = Scale(controlFrame, from_=0.01, to=10., resolution=0.01, length=300, orient=\"horizontal\")\n",
    "tempscale.pack(side=\"left\")\n",
    "tempscale.set(2.3)# On définit ici la température de départ\n",
    "#Il serait judicieux ici de prendre le température de Curie associé à notre système\n",
    "#Cependant, nous ne l'avons pas\n",
    "templabel = Label(controlFrame, text=\"temperature:\")\n",
    "templabel.pack(side=\"left\")\n",
    "spacer = Frame(controlFrame, width=40)\n",
    "spacer.pack(side=\"left\")\n",
    "startbutton = Button(controlFrame, text=\"start\", width=8, command=startandstop)\n",
    "startbutton.pack(side=\"left\")"
   ]
  },
  {
   "cell_type": "markdown",
   "source": [
    "Les derniers blocs contiennent les commandes réelles qui exécutent le code. Tout d'abord, un treillis aléatoire de spins est créé. Ensuite, la fonction Monte Carlo est exécutée, suivie par la fonction d'interface utilisateur."
   ],
   "metadata": {
    "collapsed": false,
    "pycharm": {
     "name": "#%% md\n"
    }
   }
  },
  {
   "cell_type": "code",
   "execution_count": 19,
   "metadata": {
    "pycharm": {
     "name": "#%%\n"
    }
   },
   "outputs": [],
   "source": [
    "spins=[-1,1]\n",
    "#On crée une grille aléatoire de spins\n",
    "for i in range(sites):\n",
    "    for j in range(sites):\n",
    "        lattice[i,j]=choice(spins)\n",
    "        pixel(i,j)#On appelle la fonction pixel pour colorier le canva"
   ]
  },
  {
   "cell_type": "code",
   "execution_count": 20,
   "metadata": {
    "pycharm": {
     "name": "#%%\n"
    }
   },
   "outputs": [
    {
     "name": "stderr",
     "output_type": "stream",
     "text": [
      "C:\\Users\\Antoine\\AppData\\Local\\Temp\\ipykernel_1444\\4112245994.py:9: RuntimeWarning: overflow encountered in exp\n",
      "  p=1/(1+exp(-deltaE(i,j)/(kb*T)))\n"
     ]
    }
   ],
   "source": [
    "montecarlo()#On lance la boucle monte Carlo\n",
    "window.mainloop()#On lance l'interface visuelle"
   ]
  },
  {
   "cell_type": "markdown",
   "metadata": {
    "pycharm": {
     "name": "#%% md\n"
    }
   },
   "source": [
    "## Resultats"
   ]
  },
  {
   "cell_type": "markdown",
   "source": [
    "Pour obtenir des résultats vraiment pertinent sur les différences de comportement en fonction de la température, il faudrait laisser tourner l'algorithme jusqu'à ce qu'ils réalisent des milliards de changements, ce qui nous prendrait plusieurs jours. Or nous ne pouvons pas réaliser cela. Et donc même si ce n'est pas très scientifique nous devons faire confiance au papier recherche."
   ],
   "metadata": {
    "collapsed": false,
    "pycharm": {
     "name": "#%% md\n"
    }
   }
  }
 ],
 "metadata": {
  "kernelspec": {
   "display_name": "Python 3",
   "language": "python",
   "name": "python3"
  },
  "language_info": {
   "codemirror_mode": {
    "name": "ipython",
    "version": 3
   },
   "file_extension": ".py",
   "mimetype": "text/x-python",
   "name": "python",
   "nbconvert_exporter": "python",
   "pygments_lexer": "ipython3",
   "version": "3.8.3"
  }
 },
 "nbformat": 4,
 "nbformat_minor": 1
}